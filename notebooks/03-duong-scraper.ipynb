{
 "cells": [
  {
   "cell_type": "markdown",
   "metadata": {},
   "source": [
    "# DSC 198 Soccer: Web Scraper"
   ]
  },
  {
   "cell_type": "markdown",
   "metadata": {},
   "source": [
    "## Import Packages"
   ]
  },
  {
   "cell_type": "code",
   "execution_count": 1,
   "metadata": {},
   "outputs": [],
   "source": [
    "#tabular formatting + functions and calculations\n",
    "import pandas as pd\n",
    "import numpy as np\n",
    "\n",
    "#web scraping\n",
    "import requests\n",
    "from bs4 import BeautifulSoup\n",
    "\n",
    "#misc\n",
    "import os\n",
    "import sys\n",
    "sys.path.insert(0,'..')\n",
    "sys.path.insert(0,'../data')\n",
    "\n",
    "import src.playbyplay as pbp\n",
    "\n",
    "%load_ext autoreload\n",
    "%autoreload 2"
   ]
  },
  {
   "cell_type": "code",
   "execution_count": 2,
   "metadata": {},
   "outputs": [
    {
     "data": {
      "text/html": [
       "<div>\n",
       "<style scoped>\n",
       "    .dataframe tbody tr th:only-of-type {\n",
       "        vertical-align: middle;\n",
       "    }\n",
       "\n",
       "    .dataframe tbody tr th {\n",
       "        vertical-align: top;\n",
       "    }\n",
       "\n",
       "    .dataframe thead th {\n",
       "        text-align: right;\n",
       "    }\n",
       "</style>\n",
       "<table border=\"1\" class=\"dataframe\">\n",
       "  <thead>\n",
       "    <tr style=\"text-align: right;\">\n",
       "      <th></th>\n",
       "      <th>Opponent</th>\n",
       "      <th>Timestamp</th>\n",
       "      <th>Suffix</th>\n",
       "    </tr>\n",
       "  </thead>\n",
       "  <tbody>\n",
       "    <tr>\n",
       "      <th>7</th>\n",
       "      <td>Cal Poly Pomona</td>\n",
       "      <td>October 4, 2019 at 4:30 PM</td>\n",
       "      <td>/sports/womens-soccer/stats/2019/cal-poly-pomo...</td>\n",
       "    </tr>\n",
       "    <tr>\n",
       "      <th>9</th>\n",
       "      <td>Humboldt State</td>\n",
       "      <td>October 11, 2019 at 7:00 PM</td>\n",
       "      <td>/sports/womens-soccer/stats/2019/humboldt-stat...</td>\n",
       "    </tr>\n",
       "    <tr>\n",
       "      <th>14</th>\n",
       "      <td>Sonoma State</td>\n",
       "      <td>October 25, 2019 at 12:30 PM</td>\n",
       "      <td>/sports/womens-soccer/stats/2019/sonoma-state/...</td>\n",
       "    </tr>\n",
       "    <tr>\n",
       "      <th>16</th>\n",
       "      <td>Cal Poly Pomona</td>\n",
       "      <td>November 15, 2019 at 7:00 PM</td>\n",
       "      <td>/sports/womens-soccer/stats/2019/cal-poly-pomo...</td>\n",
       "    </tr>\n",
       "    <tr>\n",
       "      <th>17</th>\n",
       "      <td>Sonoma State</td>\n",
       "      <td>November 17, 2019 at 3:00 PM</td>\n",
       "      <td>/sports/womens-soccer/stats/2019/sonoma-state/...</td>\n",
       "    </tr>\n",
       "    <tr>\n",
       "      <th>18</th>\n",
       "      <td>Point Loma</td>\n",
       "      <td>November 23, 2019 at 2:00 PM</td>\n",
       "      <td>/sports/womens-soccer/stats/2019/point-loma/bo...</td>\n",
       "    </tr>\n",
       "  </tbody>\n",
       "</table>\n",
       "</div>"
      ],
      "text/plain": [
       "           Opponent                     Timestamp  \\\n",
       "7   Cal Poly Pomona    October 4, 2019 at 4:30 PM   \n",
       "9    Humboldt State   October 11, 2019 at 7:00 PM   \n",
       "14     Sonoma State  October 25, 2019 at 12:30 PM   \n",
       "16  Cal Poly Pomona  November 15, 2019 at 7:00 PM   \n",
       "17     Sonoma State  November 17, 2019 at 3:00 PM   \n",
       "18       Point Loma  November 23, 2019 at 2:00 PM   \n",
       "\n",
       "                                               Suffix  \n",
       "7   /sports/womens-soccer/stats/2019/cal-poly-pomo...  \n",
       "9   /sports/womens-soccer/stats/2019/humboldt-stat...  \n",
       "14  /sports/womens-soccer/stats/2019/sonoma-state/...  \n",
       "16  /sports/womens-soccer/stats/2019/cal-poly-pomo...  \n",
       "17  /sports/womens-soccer/stats/2019/sonoma-state/...  \n",
       "18  /sports/womens-soccer/stats/2019/point-loma/bo...  "
      ]
     },
     "execution_count": 2,
     "metadata": {},
     "output_type": "execute_result"
    }
   ],
   "source": [
    "game_info = pbp.get_game_info()\n",
    "games = ['Humboldt', 'Point Loma', 'Pomona', 'Sonoma']\n",
    "game_list = '|'.join(games)\n",
    "game_info = game_info.loc[game_info['Opponent'].str.contains(game_list)]\n",
    "\n",
    "game_info"
   ]
  },
  {
   "cell_type": "code",
   "execution_count": 3,
   "metadata": {},
   "outputs": [
    {
     "data": {
      "text/html": [
       "<div>\n",
       "<style scoped>\n",
       "    .dataframe tbody tr th:only-of-type {\n",
       "        vertical-align: middle;\n",
       "    }\n",
       "\n",
       "    .dataframe tbody tr th {\n",
       "        vertical-align: top;\n",
       "    }\n",
       "\n",
       "    .dataframe thead th {\n",
       "        text-align: right;\n",
       "    }\n",
       "</style>\n",
       "<table border=\"1\" class=\"dataframe\">\n",
       "  <thead>\n",
       "    <tr style=\"text-align: right;\">\n",
       "      <th></th>\n",
       "      <th>Opponent</th>\n",
       "      <th>Timestamp</th>\n",
       "      <th>Suffix</th>\n",
       "    </tr>\n",
       "  </thead>\n",
       "  <tbody>\n",
       "    <tr>\n",
       "      <th>7</th>\n",
       "      <td>Cal Poly Pomona</td>\n",
       "      <td>October 4, 2019 at 4:30 PM</td>\n",
       "      <td>/sports/womens-soccer/stats/2019/cal-poly-pomo...</td>\n",
       "    </tr>\n",
       "    <tr>\n",
       "      <th>9</th>\n",
       "      <td>Humboldt State</td>\n",
       "      <td>October 11, 2019 at 7:00 PM</td>\n",
       "      <td>/sports/womens-soccer/stats/2019/humboldt-stat...</td>\n",
       "    </tr>\n",
       "    <tr>\n",
       "      <th>14</th>\n",
       "      <td>Sonoma State</td>\n",
       "      <td>October 25, 2019 at 12:30 PM</td>\n",
       "      <td>/sports/womens-soccer/stats/2019/sonoma-state/...</td>\n",
       "    </tr>\n",
       "    <tr>\n",
       "      <th>18</th>\n",
       "      <td>Point Loma</td>\n",
       "      <td>November 23, 2019 at 2:00 PM</td>\n",
       "      <td>/sports/womens-soccer/stats/2019/point-loma/bo...</td>\n",
       "    </tr>\n",
       "  </tbody>\n",
       "</table>\n",
       "</div>"
      ],
      "text/plain": [
       "           Opponent                     Timestamp  \\\n",
       "7   Cal Poly Pomona    October 4, 2019 at 4:30 PM   \n",
       "9    Humboldt State   October 11, 2019 at 7:00 PM   \n",
       "14     Sonoma State  October 25, 2019 at 12:30 PM   \n",
       "18       Point Loma  November 23, 2019 at 2:00 PM   \n",
       "\n",
       "                                               Suffix  \n",
       "7   /sports/womens-soccer/stats/2019/cal-poly-pomo...  \n",
       "9   /sports/womens-soccer/stats/2019/humboldt-stat...  \n",
       "14  /sports/womens-soccer/stats/2019/sonoma-state/...  \n",
       "18  /sports/womens-soccer/stats/2019/point-loma/bo...  "
      ]
     },
     "execution_count": 3,
     "metadata": {},
     "output_type": "execute_result"
    }
   ],
   "source": [
    "home_games = game_info.iloc[[0, 1, 2, 5]]\n",
    "home_games"
   ]
  },
  {
   "cell_type": "code",
   "execution_count": 52,
   "metadata": {},
   "outputs": [],
   "source": [
    "for row in range(len(home_games)):\n",
    "    file = home_games.iloc[row]['Opponent'] + ' ' + home_games.iloc[row]['Timestamp'] + '.csv'\n",
    "\n",
    "    curr_path = os.getcwd()\n",
    "    parent_path = os.path.abspath(os.path.join(curr_path, os.pardir))\n",
    "    data_folder = '/data/Play by Play/'\n",
    "    fp = parent_path + data_folder + file\n",
    "    \n",
    "    play_by_play = pbp.get_play_by_play(home_games.iloc[row]['Suffix'])\n",
    "    \n",
    "    play_by_play.to_csv(fp, index = False)"
   ]
  },
  {
   "cell_type": "code",
   "execution_count": 29,
   "metadata": {},
   "outputs": [],
   "source": [
    "home_URL = 'https://ucsdtritons.com/'\n",
    "schedule_URL = 'https://ucsdtritons.com/sports/womens-soccer/schedule/2019'\n",
    "box_score_ID = 'sidearm-schedule-game-links-boxscore'"
   ]
  },
  {
   "cell_type": "code",
   "execution_count": 30,
   "metadata": {},
   "outputs": [],
   "source": [
    "page = requests.get(schedule_URL)\n",
    "soup = BeautifulSoup(page.content, 'html.parser')"
   ]
  },
  {
   "cell_type": "code",
   "execution_count": 31,
   "metadata": {},
   "outputs": [],
   "source": [
    "box_score_suffixes = []\n",
    "game_list = []\n",
    "\n",
    "for game in soup.find_all(\"li\", class_ = box_score_ID):\n",
    "    \n",
    "    try:\n",
    "        suffix = game.find('a').get('href')\n",
    "        game_opp = game.find('a').get('aria-label')\n",
    "        \n",
    "        if suffix not in box_score_suffixes:\n",
    "            box_score_suffixes.append(suffix)\n",
    "        \n",
    "        if game_opp not in game_list:\n",
    "            game_list.append(game_opp)\n",
    "            \n",
    "    except:\n",
    "        continue"
   ]
  },
  {
   "cell_type": "code",
   "execution_count": 32,
   "metadata": {},
   "outputs": [],
   "source": [
    "times = []\n",
    "opps = []\n",
    "\n",
    "for game in game_list:\n",
    "    time = game.split(' on ')[1]\n",
    "    times.append(time)\n",
    "    \n",
    "    try:\n",
    "        opponent = game.split(' on ')[0].split(' vs ')[1]\n",
    "        opps.append(opponent)\n",
    "        \n",
    "    except:\n",
    "        opponent = game.split(' on ')[0].split(' at ')[1]\n",
    "        opps.append(opponent)"
   ]
  },
  {
   "cell_type": "code",
   "execution_count": 33,
   "metadata": {},
   "outputs": [
    {
     "data": {
      "text/html": [
       "<div>\n",
       "<style scoped>\n",
       "    .dataframe tbody tr th:only-of-type {\n",
       "        vertical-align: middle;\n",
       "    }\n",
       "\n",
       "    .dataframe tbody tr th {\n",
       "        vertical-align: top;\n",
       "    }\n",
       "\n",
       "    .dataframe thead th {\n",
       "        text-align: right;\n",
       "    }\n",
       "</style>\n",
       "<table border=\"1\" class=\"dataframe\">\n",
       "  <thead>\n",
       "    <tr style=\"text-align: right;\">\n",
       "      <th></th>\n",
       "      <th>Opponent</th>\n",
       "      <th>DateTime</th>\n",
       "      <th>Link</th>\n",
       "    </tr>\n",
       "  </thead>\n",
       "  <tbody>\n",
       "    <tr>\n",
       "      <th>0</th>\n",
       "      <td>Concordia (Irvine)</td>\n",
       "      <td>September 5, 2019 at 7:00 PM</td>\n",
       "      <td>/sports/womens-soccer/stats/2019/concordia-irv...</td>\n",
       "    </tr>\n",
       "    <tr>\n",
       "      <th>1</th>\n",
       "      <td>Biola</td>\n",
       "      <td>September 7, 2019 at 4:30 PM</td>\n",
       "      <td>/sports/womens-soccer/stats/2019/biola/boxscor...</td>\n",
       "    </tr>\n",
       "    <tr>\n",
       "      <th>2</th>\n",
       "      <td>Azusa Pacific</td>\n",
       "      <td>September 14, 2019 at 7:30 PM</td>\n",
       "      <td>/sports/womens-soccer/stats/2019/azusa-pacific...</td>\n",
       "    </tr>\n",
       "    <tr>\n",
       "      <th>3</th>\n",
       "      <td>Simon Fraser</td>\n",
       "      <td>September 16, 2019 at 11:30 AM</td>\n",
       "      <td>/sports/womens-soccer/stats/2019/simon-fraser/...</td>\n",
       "    </tr>\n",
       "    <tr>\n",
       "      <th>4</th>\n",
       "      <td>Cal State San Marcos</td>\n",
       "      <td>September 19, 2019 at 12:30 PM</td>\n",
       "      <td>/sports/womens-soccer/stats/2019/cal-state-san...</td>\n",
       "    </tr>\n",
       "  </tbody>\n",
       "</table>\n",
       "</div>"
      ],
      "text/plain": [
       "               Opponent                        DateTime  \\\n",
       "0    Concordia (Irvine)    September 5, 2019 at 7:00 PM   \n",
       "1                 Biola    September 7, 2019 at 4:30 PM   \n",
       "2         Azusa Pacific   September 14, 2019 at 7:30 PM   \n",
       "3          Simon Fraser  September 16, 2019 at 11:30 AM   \n",
       "4  Cal State San Marcos  September 19, 2019 at 12:30 PM   \n",
       "\n",
       "                                                Link  \n",
       "0  /sports/womens-soccer/stats/2019/concordia-irv...  \n",
       "1  /sports/womens-soccer/stats/2019/biola/boxscor...  \n",
       "2  /sports/womens-soccer/stats/2019/azusa-pacific...  \n",
       "3  /sports/womens-soccer/stats/2019/simon-fraser/...  \n",
       "4  /sports/womens-soccer/stats/2019/cal-state-san...  "
      ]
     },
     "execution_count": 33,
     "metadata": {},
     "output_type": "execute_result"
    }
   ],
   "source": [
    "df = pd.DataFrame()\n",
    "\n",
    "df['Opponent'] = opps\n",
    "df['DateTime'] = times\n",
    "df['Link'] = box_score_suffixes\n",
    "\n",
    "df.head()"
   ]
  },
  {
   "cell_type": "code",
   "execution_count": 34,
   "metadata": {},
   "outputs": [
    {
     "data": {
      "text/plain": [
       "'https://ucsdtritons.com//sports/womens-soccer/stats/2019/concordia-irvine-/boxscore/2931'"
      ]
     },
     "execution_count": 34,
     "metadata": {},
     "output_type": "execute_result"
    }
   ],
   "source": [
    "a1 = df.iloc[0]['Link']\n",
    "a2 = home_URL + a1\n",
    "a2"
   ]
  },
  {
   "cell_type": "code",
   "execution_count": 35,
   "metadata": {},
   "outputs": [],
   "source": [
    "page = requests.get(a2)\n",
    "soup = BeautifulSoup(page.content, 'html.parser')"
   ]
  },
  {
   "cell_type": "code",
   "execution_count": 40,
   "metadata": {},
   "outputs": [],
   "source": [
    "a = soup.find(id = \"period-7\")\n",
    "\n",
    "if a:\n",
    "    print('not empty')\n",
    "    \n",
    "b = 'period-1'"
   ]
  },
  {
   "cell_type": "code",
   "execution_count": 41,
   "metadata": {},
   "outputs": [],
   "source": [
    "#soup.find(id = \"period-1\").find_all(\"td\")\n",
    "\n",
    "timer = True\n",
    "timestamps = []\n",
    "events = []\n",
    "\n",
    "for table_entry in soup.find(id = b).find_all(\"td\"):\n",
    "    \n",
    "    if table_entry.get('aria-hidden'):\n",
    "        continue\n",
    "        \n",
    "    table_text = table_entry.text.strip()\n",
    "    \n",
    "    if len(table_text) > 2:\n",
    "        \n",
    "        if timer:\n",
    "            timestamps.append(table_text)\n",
    "            timer = False\n",
    "            \n",
    "        else:\n",
    "            events.append(table_text)\n",
    "            timer = True"
   ]
  },
  {
   "cell_type": "code",
   "execution_count": 42,
   "metadata": {},
   "outputs": [],
   "source": [
    "def get_minutes(timestamp):\n",
    "    return timestamp.split(':')[0]\n",
    "\n",
    "def get_seconds(timestamp):\n",
    "    return timestamp.split(':')[1]"
   ]
  },
  {
   "cell_type": "code",
   "execution_count": 43,
   "metadata": {},
   "outputs": [
    {
     "data": {
      "text/html": [
       "<div>\n",
       "<style scoped>\n",
       "    .dataframe tbody tr th:only-of-type {\n",
       "        vertical-align: middle;\n",
       "    }\n",
       "\n",
       "    .dataframe tbody tr th {\n",
       "        vertical-align: top;\n",
       "    }\n",
       "\n",
       "    .dataframe thead th {\n",
       "        text-align: right;\n",
       "    }\n",
       "</style>\n",
       "<table border=\"1\" class=\"dataframe\">\n",
       "  <thead>\n",
       "    <tr style=\"text-align: right;\">\n",
       "      <th></th>\n",
       "      <th>Timestamps</th>\n",
       "      <th>Event</th>\n",
       "      <th>Minute</th>\n",
       "      <th>Second</th>\n",
       "    </tr>\n",
       "  </thead>\n",
       "  <tbody>\n",
       "    <tr>\n",
       "      <th>0</th>\n",
       "      <td>00:00</td>\n",
       "      <td>Ramos, Angelica at goalie for UC San Diego</td>\n",
       "      <td>00</td>\n",
       "      <td>00</td>\n",
       "    </tr>\n",
       "    <tr>\n",
       "      <th>1</th>\n",
       "      <td>00:00</td>\n",
       "      <td>Whitcomb, Kaelyn at goalie for Concordia (CA)</td>\n",
       "      <td>00</td>\n",
       "      <td>00</td>\n",
       "    </tr>\n",
       "    <tr>\n",
       "      <th>2</th>\n",
       "      <td>01:03</td>\n",
       "      <td>Foul on Barton, Danni.</td>\n",
       "      <td>01</td>\n",
       "      <td>03</td>\n",
       "    </tr>\n",
       "    <tr>\n",
       "      <th>3</th>\n",
       "      <td>02:33</td>\n",
       "      <td>Shot by UCSD Tang, Lucy, out left.</td>\n",
       "      <td>02</td>\n",
       "      <td>33</td>\n",
       "    </tr>\n",
       "    <tr>\n",
       "      <th>4</th>\n",
       "      <td>03:35</td>\n",
       "      <td>Shot by UCSD Saddic, Natalie, out top.</td>\n",
       "      <td>03</td>\n",
       "      <td>35</td>\n",
       "    </tr>\n",
       "  </tbody>\n",
       "</table>\n",
       "</div>"
      ],
      "text/plain": [
       "  Timestamps                                          Event Minute Second\n",
       "0      00:00     Ramos, Angelica at goalie for UC San Diego     00     00\n",
       "1      00:00  Whitcomb, Kaelyn at goalie for Concordia (CA)     00     00\n",
       "2      01:03                         Foul on Barton, Danni.     01     03\n",
       "3      02:33             Shot by UCSD Tang, Lucy, out left.     02     33\n",
       "4      03:35         Shot by UCSD Saddic, Natalie, out top.     03     35"
      ]
     },
     "execution_count": 43,
     "metadata": {},
     "output_type": "execute_result"
    }
   ],
   "source": [
    "event_df = pd.DataFrame()\n",
    "event_df['Timestamps'] = timestamps\n",
    "event_df['Event'] = events\n",
    "\n",
    "event_df['Minute'] = event_df['Timestamps'].apply(get_minutes)\n",
    "event_df['Second'] = event_df['Timestamps'].apply(get_seconds)\n",
    "\n",
    "event_df.head()"
   ]
  },
  {
   "cell_type": "code",
   "execution_count": null,
   "metadata": {},
   "outputs": [],
   "source": []
  },
  {
   "cell_type": "code",
   "execution_count": null,
   "metadata": {},
   "outputs": [],
   "source": []
  }
 ],
 "metadata": {
  "kernelspec": {
   "display_name": "Python 3",
   "language": "python",
   "name": "python3"
  },
  "language_info": {
   "codemirror_mode": {
    "name": "ipython",
    "version": 3
   },
   "file_extension": ".py",
   "mimetype": "text/x-python",
   "name": "python",
   "nbconvert_exporter": "python",
   "pygments_lexer": "ipython3",
   "version": "3.7.3"
  }
 },
 "nbformat": 4,
 "nbformat_minor": 2
}
